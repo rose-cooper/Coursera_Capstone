{
 "cells": [
  {
   "cell_type": "markdown",
   "metadata": {},
   "source": [
    "# Segmenting and Clustering Neighborhoods"
   ]
  },
  {
   "cell_type": "code",
   "execution_count": 1,
   "metadata": {},
   "outputs": [],
   "source": [
    "# libraries\n",
    "import pandas as pd\n",
    "import numpy as np\n",
    "from sklearn.cluster import KMeans\n",
    "import folium\n",
    "import requests\n",
    "import matplotlib.cm as cm\n",
    "import matplotlib.pyplot as plt\n",
    "import matplotlib.colors as colors\n",
    "\n",
    "%matplotlib inline\n",
    "\n",
    "# my foursquare credentials\n",
    "import foursquare_id as login"
   ]
  },
  {
   "cell_type": "markdown",
   "metadata": {},
   "source": [
    "## Fetch wikipedia data"
   ]
  },
  {
   "cell_type": "markdown",
   "metadata": {},
   "source": [
    "Read data and remove 'not assigned' boroughs"
   ]
  },
  {
   "cell_type": "code",
   "execution_count": 2,
   "metadata": {},
   "outputs": [
    {
     "name": "stdout",
     "output_type": "stream",
     "text": [
      "Downloaded data and removed not assigned boroughs\n"
     ]
    }
   ],
   "source": [
    "toronto = pd.read_html('https://en.wikipedia.org/wiki/List_of_postal_codes_of_Canada:_M')[0]\n",
    "toronto = toronto[toronto['Borough'] != 'Not assigned']\n",
    "print('Downloaded data and removed not assigned boroughs')"
   ]
  },
  {
   "cell_type": "markdown",
   "metadata": {},
   "source": [
    "Data frame already seems to have neighborhoods separted by commas for same the postal code, but check for duplicate postal codes just in case"
   ]
  },
  {
   "cell_type": "code",
   "execution_count": 3,
   "metadata": {},
   "outputs": [
    {
     "name": "stdout",
     "output_type": "stream",
     "text": [
      "Data frame has 0 postal codes listed more than once\n"
     ]
    }
   ],
   "source": [
    "duplicates = sum(toronto.duplicated())\n",
    "print('Data frame has',duplicates,'postal codes listed more than once')"
   ]
  },
  {
   "cell_type": "markdown",
   "metadata": {},
   "source": [
    "Label any 'not assigned' neighbourhoods with borough name"
   ]
  },
  {
   "cell_type": "code",
   "execution_count": 4,
   "metadata": {},
   "outputs": [
    {
     "name": "stdout",
     "output_type": "stream",
     "text": [
      "Toronto data frame cleaned\n"
     ]
    },
    {
     "data": {
      "text/html": [
       "<div>\n",
       "<style scoped>\n",
       "    .dataframe tbody tr th:only-of-type {\n",
       "        vertical-align: middle;\n",
       "    }\n",
       "\n",
       "    .dataframe tbody tr th {\n",
       "        vertical-align: top;\n",
       "    }\n",
       "\n",
       "    .dataframe thead th {\n",
       "        text-align: right;\n",
       "    }\n",
       "</style>\n",
       "<table border=\"1\" class=\"dataframe\">\n",
       "  <thead>\n",
       "    <tr style=\"text-align: right;\">\n",
       "      <th></th>\n",
       "      <th>Postal Code</th>\n",
       "      <th>Borough</th>\n",
       "      <th>Neighbourhood</th>\n",
       "    </tr>\n",
       "  </thead>\n",
       "  <tbody>\n",
       "    <tr>\n",
       "      <th>0</th>\n",
       "      <td>M3A</td>\n",
       "      <td>North York</td>\n",
       "      <td>Parkwoods</td>\n",
       "    </tr>\n",
       "    <tr>\n",
       "      <th>1</th>\n",
       "      <td>M4A</td>\n",
       "      <td>North York</td>\n",
       "      <td>Victoria Village</td>\n",
       "    </tr>\n",
       "    <tr>\n",
       "      <th>2</th>\n",
       "      <td>M5A</td>\n",
       "      <td>Downtown Toronto</td>\n",
       "      <td>Regent Park, Harbourfront</td>\n",
       "    </tr>\n",
       "    <tr>\n",
       "      <th>3</th>\n",
       "      <td>M6A</td>\n",
       "      <td>North York</td>\n",
       "      <td>Lawrence Manor, Lawrence Heights</td>\n",
       "    </tr>\n",
       "    <tr>\n",
       "      <th>4</th>\n",
       "      <td>M7A</td>\n",
       "      <td>Downtown Toronto</td>\n",
       "      <td>Queen's Park, Ontario Provincial Government</td>\n",
       "    </tr>\n",
       "    <tr>\n",
       "      <th>...</th>\n",
       "      <td>...</td>\n",
       "      <td>...</td>\n",
       "      <td>...</td>\n",
       "    </tr>\n",
       "    <tr>\n",
       "      <th>98</th>\n",
       "      <td>M8X</td>\n",
       "      <td>Etobicoke</td>\n",
       "      <td>The Kingsway, Montgomery Road, Old Mill North</td>\n",
       "    </tr>\n",
       "    <tr>\n",
       "      <th>99</th>\n",
       "      <td>M4Y</td>\n",
       "      <td>Downtown Toronto</td>\n",
       "      <td>Church and Wellesley</td>\n",
       "    </tr>\n",
       "    <tr>\n",
       "      <th>100</th>\n",
       "      <td>M7Y</td>\n",
       "      <td>East Toronto</td>\n",
       "      <td>Business reply mail Processing Centre, South C...</td>\n",
       "    </tr>\n",
       "    <tr>\n",
       "      <th>101</th>\n",
       "      <td>M8Y</td>\n",
       "      <td>Etobicoke</td>\n",
       "      <td>Old Mill South, King's Mill Park, Sunnylea, Hu...</td>\n",
       "    </tr>\n",
       "    <tr>\n",
       "      <th>102</th>\n",
       "      <td>M8Z</td>\n",
       "      <td>Etobicoke</td>\n",
       "      <td>Mimico NW, The Queensway West, South of Bloor,...</td>\n",
       "    </tr>\n",
       "  </tbody>\n",
       "</table>\n",
       "<p>103 rows × 3 columns</p>\n",
       "</div>"
      ],
      "text/plain": [
       "    Postal Code           Borough  \\\n",
       "0           M3A        North York   \n",
       "1           M4A        North York   \n",
       "2           M5A  Downtown Toronto   \n",
       "3           M6A        North York   \n",
       "4           M7A  Downtown Toronto   \n",
       "..          ...               ...   \n",
       "98          M8X         Etobicoke   \n",
       "99          M4Y  Downtown Toronto   \n",
       "100         M7Y      East Toronto   \n",
       "101         M8Y         Etobicoke   \n",
       "102         M8Z         Etobicoke   \n",
       "\n",
       "                                         Neighbourhood  \n",
       "0                                            Parkwoods  \n",
       "1                                     Victoria Village  \n",
       "2                            Regent Park, Harbourfront  \n",
       "3                     Lawrence Manor, Lawrence Heights  \n",
       "4          Queen's Park, Ontario Provincial Government  \n",
       "..                                                 ...  \n",
       "98       The Kingsway, Montgomery Road, Old Mill North  \n",
       "99                                Church and Wellesley  \n",
       "100  Business reply mail Processing Centre, South C...  \n",
       "101  Old Mill South, King's Mill Park, Sunnylea, Hu...  \n",
       "102  Mimico NW, The Queensway West, South of Bloor,...  \n",
       "\n",
       "[103 rows x 3 columns]"
      ]
     },
     "execution_count": 4,
     "metadata": {},
     "output_type": "execute_result"
    }
   ],
   "source": [
    "n_index = toronto['Neighbourhood'] == 'Not assigned'\n",
    "toronto.loc[n_index,'Neighbourhood'] = toronto.loc[n_index,'Borough']\n",
    "toronto.reset_index(inplace=True, drop=True)\n",
    "print('Toronto data frame cleaned')\n",
    "toronto"
   ]
  },
  {
   "cell_type": "markdown",
   "metadata": {},
   "source": [
    "Size of data frame"
   ]
  },
  {
   "cell_type": "code",
   "execution_count": 5,
   "metadata": {},
   "outputs": [
    {
     "data": {
      "text/plain": [
       "(103, 3)"
      ]
     },
     "execution_count": 5,
     "metadata": {},
     "output_type": "execute_result"
    }
   ],
   "source": [
    "toronto.shape"
   ]
  },
  {
   "cell_type": "markdown",
   "metadata": {},
   "source": [
    "## Get latitude and longitude of locations"
   ]
  },
  {
   "cell_type": "markdown",
   "metadata": {},
   "source": [
    "I kept getting \"request denied\" outputs with the Geocoder package, so I am loading in latitude and longtitude values from the csv file"
   ]
  },
  {
   "cell_type": "code",
   "execution_count": 6,
   "metadata": {},
   "outputs": [],
   "source": [
    "# fetch coordinates\n",
    "lat_lng_coords = pd.read_csv('http://cocl.us/Geospatial_data')"
   ]
  },
  {
   "cell_type": "markdown",
   "metadata": {},
   "source": [
    "Merge coordinates with my toronto neighborhoods dataframe"
   ]
  },
  {
   "cell_type": "code",
   "execution_count": 7,
   "metadata": {},
   "outputs": [
    {
     "data": {
      "text/html": [
       "<div>\n",
       "<style scoped>\n",
       "    .dataframe tbody tr th:only-of-type {\n",
       "        vertical-align: middle;\n",
       "    }\n",
       "\n",
       "    .dataframe tbody tr th {\n",
       "        vertical-align: top;\n",
       "    }\n",
       "\n",
       "    .dataframe thead th {\n",
       "        text-align: right;\n",
       "    }\n",
       "</style>\n",
       "<table border=\"1\" class=\"dataframe\">\n",
       "  <thead>\n",
       "    <tr style=\"text-align: right;\">\n",
       "      <th></th>\n",
       "      <th>Postal Code</th>\n",
       "      <th>Borough</th>\n",
       "      <th>Neighbourhood</th>\n",
       "      <th>Latitude</th>\n",
       "      <th>Longitude</th>\n",
       "    </tr>\n",
       "  </thead>\n",
       "  <tbody>\n",
       "    <tr>\n",
       "      <th>0</th>\n",
       "      <td>M3A</td>\n",
       "      <td>North York</td>\n",
       "      <td>Parkwoods</td>\n",
       "      <td>43.753259</td>\n",
       "      <td>-79.329656</td>\n",
       "    </tr>\n",
       "    <tr>\n",
       "      <th>1</th>\n",
       "      <td>M4A</td>\n",
       "      <td>North York</td>\n",
       "      <td>Victoria Village</td>\n",
       "      <td>43.725882</td>\n",
       "      <td>-79.315572</td>\n",
       "    </tr>\n",
       "    <tr>\n",
       "      <th>2</th>\n",
       "      <td>M5A</td>\n",
       "      <td>Downtown Toronto</td>\n",
       "      <td>Regent Park, Harbourfront</td>\n",
       "      <td>43.654260</td>\n",
       "      <td>-79.360636</td>\n",
       "    </tr>\n",
       "    <tr>\n",
       "      <th>3</th>\n",
       "      <td>M6A</td>\n",
       "      <td>North York</td>\n",
       "      <td>Lawrence Manor, Lawrence Heights</td>\n",
       "      <td>43.718518</td>\n",
       "      <td>-79.464763</td>\n",
       "    </tr>\n",
       "    <tr>\n",
       "      <th>4</th>\n",
       "      <td>M7A</td>\n",
       "      <td>Downtown Toronto</td>\n",
       "      <td>Queen's Park, Ontario Provincial Government</td>\n",
       "      <td>43.662301</td>\n",
       "      <td>-79.389494</td>\n",
       "    </tr>\n",
       "    <tr>\n",
       "      <th>...</th>\n",
       "      <td>...</td>\n",
       "      <td>...</td>\n",
       "      <td>...</td>\n",
       "      <td>...</td>\n",
       "      <td>...</td>\n",
       "    </tr>\n",
       "    <tr>\n",
       "      <th>98</th>\n",
       "      <td>M8X</td>\n",
       "      <td>Etobicoke</td>\n",
       "      <td>The Kingsway, Montgomery Road, Old Mill North</td>\n",
       "      <td>43.653654</td>\n",
       "      <td>-79.506944</td>\n",
       "    </tr>\n",
       "    <tr>\n",
       "      <th>99</th>\n",
       "      <td>M4Y</td>\n",
       "      <td>Downtown Toronto</td>\n",
       "      <td>Church and Wellesley</td>\n",
       "      <td>43.665860</td>\n",
       "      <td>-79.383160</td>\n",
       "    </tr>\n",
       "    <tr>\n",
       "      <th>100</th>\n",
       "      <td>M7Y</td>\n",
       "      <td>East Toronto</td>\n",
       "      <td>Business reply mail Processing Centre, South C...</td>\n",
       "      <td>43.662744</td>\n",
       "      <td>-79.321558</td>\n",
       "    </tr>\n",
       "    <tr>\n",
       "      <th>101</th>\n",
       "      <td>M8Y</td>\n",
       "      <td>Etobicoke</td>\n",
       "      <td>Old Mill South, King's Mill Park, Sunnylea, Hu...</td>\n",
       "      <td>43.636258</td>\n",
       "      <td>-79.498509</td>\n",
       "    </tr>\n",
       "    <tr>\n",
       "      <th>102</th>\n",
       "      <td>M8Z</td>\n",
       "      <td>Etobicoke</td>\n",
       "      <td>Mimico NW, The Queensway West, South of Bloor,...</td>\n",
       "      <td>43.628841</td>\n",
       "      <td>-79.520999</td>\n",
       "    </tr>\n",
       "  </tbody>\n",
       "</table>\n",
       "<p>103 rows × 5 columns</p>\n",
       "</div>"
      ],
      "text/plain": [
       "    Postal Code           Borough  \\\n",
       "0           M3A        North York   \n",
       "1           M4A        North York   \n",
       "2           M5A  Downtown Toronto   \n",
       "3           M6A        North York   \n",
       "4           M7A  Downtown Toronto   \n",
       "..          ...               ...   \n",
       "98          M8X         Etobicoke   \n",
       "99          M4Y  Downtown Toronto   \n",
       "100         M7Y      East Toronto   \n",
       "101         M8Y         Etobicoke   \n",
       "102         M8Z         Etobicoke   \n",
       "\n",
       "                                         Neighbourhood   Latitude  Longitude  \n",
       "0                                            Parkwoods  43.753259 -79.329656  \n",
       "1                                     Victoria Village  43.725882 -79.315572  \n",
       "2                            Regent Park, Harbourfront  43.654260 -79.360636  \n",
       "3                     Lawrence Manor, Lawrence Heights  43.718518 -79.464763  \n",
       "4          Queen's Park, Ontario Provincial Government  43.662301 -79.389494  \n",
       "..                                                 ...        ...        ...  \n",
       "98       The Kingsway, Montgomery Road, Old Mill North  43.653654 -79.506944  \n",
       "99                                Church and Wellesley  43.665860 -79.383160  \n",
       "100  Business reply mail Processing Centre, South C...  43.662744 -79.321558  \n",
       "101  Old Mill South, King's Mill Park, Sunnylea, Hu...  43.636258 -79.498509  \n",
       "102  Mimico NW, The Queensway West, South of Bloor,...  43.628841 -79.520999  \n",
       "\n",
       "[103 rows x 5 columns]"
      ]
     },
     "execution_count": 7,
     "metadata": {},
     "output_type": "execute_result"
    }
   ],
   "source": [
    "toronto_coords = toronto.merge(lat_lng_coords, on=\"Postal Code\")\n",
    "toronto_coords"
   ]
  },
  {
   "cell_type": "markdown",
   "metadata": {},
   "source": [
    "## Cluster Neighborhoods"
   ]
  },
  {
   "cell_type": "markdown",
   "metadata": {},
   "source": [
    "Filter by boroughs containing \"Toronto\""
   ]
  },
  {
   "cell_type": "code",
   "execution_count": 8,
   "metadata": {},
   "outputs": [
    {
     "data": {
      "text/html": [
       "<div>\n",
       "<style scoped>\n",
       "    .dataframe tbody tr th:only-of-type {\n",
       "        vertical-align: middle;\n",
       "    }\n",
       "\n",
       "    .dataframe tbody tr th {\n",
       "        vertical-align: top;\n",
       "    }\n",
       "\n",
       "    .dataframe thead th {\n",
       "        text-align: right;\n",
       "    }\n",
       "</style>\n",
       "<table border=\"1\" class=\"dataframe\">\n",
       "  <thead>\n",
       "    <tr style=\"text-align: right;\">\n",
       "      <th></th>\n",
       "      <th>Postal Code</th>\n",
       "      <th>Borough</th>\n",
       "      <th>Neighbourhood</th>\n",
       "      <th>Latitude</th>\n",
       "      <th>Longitude</th>\n",
       "    </tr>\n",
       "  </thead>\n",
       "  <tbody>\n",
       "    <tr>\n",
       "      <th>0</th>\n",
       "      <td>M5A</td>\n",
       "      <td>Downtown Toronto</td>\n",
       "      <td>Regent Park, Harbourfront</td>\n",
       "      <td>43.654260</td>\n",
       "      <td>-79.360636</td>\n",
       "    </tr>\n",
       "    <tr>\n",
       "      <th>1</th>\n",
       "      <td>M7A</td>\n",
       "      <td>Downtown Toronto</td>\n",
       "      <td>Queen's Park, Ontario Provincial Government</td>\n",
       "      <td>43.662301</td>\n",
       "      <td>-79.389494</td>\n",
       "    </tr>\n",
       "    <tr>\n",
       "      <th>2</th>\n",
       "      <td>M5B</td>\n",
       "      <td>Downtown Toronto</td>\n",
       "      <td>Garden District, Ryerson</td>\n",
       "      <td>43.657162</td>\n",
       "      <td>-79.378937</td>\n",
       "    </tr>\n",
       "    <tr>\n",
       "      <th>3</th>\n",
       "      <td>M5C</td>\n",
       "      <td>Downtown Toronto</td>\n",
       "      <td>St. James Town</td>\n",
       "      <td>43.651494</td>\n",
       "      <td>-79.375418</td>\n",
       "    </tr>\n",
       "    <tr>\n",
       "      <th>4</th>\n",
       "      <td>M4E</td>\n",
       "      <td>East Toronto</td>\n",
       "      <td>The Beaches</td>\n",
       "      <td>43.676357</td>\n",
       "      <td>-79.293031</td>\n",
       "    </tr>\n",
       "  </tbody>\n",
       "</table>\n",
       "</div>"
      ],
      "text/plain": [
       "  Postal Code           Borough                                Neighbourhood  \\\n",
       "0         M5A  Downtown Toronto                    Regent Park, Harbourfront   \n",
       "1         M7A  Downtown Toronto  Queen's Park, Ontario Provincial Government   \n",
       "2         M5B  Downtown Toronto                     Garden District, Ryerson   \n",
       "3         M5C  Downtown Toronto                               St. James Town   \n",
       "4         M4E      East Toronto                                  The Beaches   \n",
       "\n",
       "    Latitude  Longitude  \n",
       "0  43.654260 -79.360636  \n",
       "1  43.662301 -79.389494  \n",
       "2  43.657162 -79.378937  \n",
       "3  43.651494 -79.375418  \n",
       "4  43.676357 -79.293031  "
      ]
     },
     "execution_count": 8,
     "metadata": {},
     "output_type": "execute_result"
    }
   ],
   "source": [
    "toronto_data = toronto_coords[toronto_coords['Borough'].str.contains('Toronto')].reset_index(drop=True)\n",
    "toronto_data.head()"
   ]
  },
  {
   "cell_type": "markdown",
   "metadata": {},
   "source": [
    "Plot a map of Toronto neighborhoods"
   ]
  },
  {
   "cell_type": "code",
   "execution_count": 9,
   "metadata": {},
   "outputs": [
    {
     "data": {
      "text/html": [
       "<div style=\"width:100%;\"><div style=\"position:relative;width:100%;height:0;padding-bottom:60%;\"><span style=\"color:#565656\">Make this Notebook Trusted to load map: File -> Trust Notebook</span><iframe src=\"about:blank\" style=\"position:absolute;width:100%;height:100%;left:0;top:0;border:none !important;\" data-html=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 onload=\"this.contentDocument.open();this.contentDocument.write(atob(this.getAttribute('data-html')));this.contentDocument.close();\" allowfullscreen webkitallowfullscreen mozallowfullscreen></iframe></div></div>"
      ],
      "text/plain": [
       "<folium.folium.Map at 0x1206e36a0>"
      ]
     },
     "execution_count": 9,
     "metadata": {},
     "output_type": "execute_result"
    }
   ],
   "source": [
    "t_lat = 43.6532\n",
    "t_lng = -79.3832\n",
    "\n",
    "# create map of Toronto using latitude and longitude values\n",
    "map_toronto = folium.Map(location=[t_lat, t_lng], zoom_start=12)\n",
    "\n",
    "# add markers to map\n",
    "for lat, lng, label in zip(toronto_data['Latitude'], toronto_data['Longitude'], toronto_data['Neighbourhood']):\n",
    "    label = folium.Popup(label, parse_html=True)\n",
    "    folium.CircleMarker(\n",
    "        [lat, lng],\n",
    "        radius=8,\n",
    "        popup=label,\n",
    "        color='#0083B0',\n",
    "        fill=True,\n",
    "        fill_color='#00B4DB',\n",
    "        fill_opacity=0.7,\n",
    "        parse_html=False).add_to(map_toronto)  \n",
    "    \n",
    "map_toronto"
   ]
  },
  {
   "cell_type": "markdown",
   "metadata": {},
   "source": [
    "Get my foursquare credentials and define parameters for url:"
   ]
  },
  {
   "cell_type": "code",
   "execution_count": 10,
   "metadata": {},
   "outputs": [],
   "source": [
    "# stored in file foursquare_id.py (gitignored) to avoid showing here\n",
    "\n",
    "CLIENT_ID = login.foursquare['accessID'] # your Foursquare ID\n",
    "CLIENT_SECRET = login.foursquare['secretID'] # your Foursquare Secret\n",
    "VERSION = '20180605' # Foursquare API version\n",
    "LIMIT = 100 # A default Foursquare API limit value\n",
    "QUERY = \"restaurant\""
   ]
  },
  {
   "cell_type": "markdown",
   "metadata": {},
   "source": [
    "What kinds of restaurants are within 1km of each of my neighborhoods?"
   ]
  },
  {
   "cell_type": "code",
   "execution_count": 11,
   "metadata": {},
   "outputs": [
    {
     "data": {
      "text/html": [
       "<div>\n",
       "<style scoped>\n",
       "    .dataframe tbody tr th:only-of-type {\n",
       "        vertical-align: middle;\n",
       "    }\n",
       "\n",
       "    .dataframe tbody tr th {\n",
       "        vertical-align: top;\n",
       "    }\n",
       "\n",
       "    .dataframe thead th {\n",
       "        text-align: right;\n",
       "    }\n",
       "</style>\n",
       "<table border=\"1\" class=\"dataframe\">\n",
       "  <thead>\n",
       "    <tr style=\"text-align: right;\">\n",
       "      <th></th>\n",
       "      <th>Postal Code</th>\n",
       "      <th>Neighborhood Latitude</th>\n",
       "      <th>Neighborhood Longitude</th>\n",
       "      <th>Venue</th>\n",
       "      <th>Venue Latitude</th>\n",
       "      <th>Venue Longitude</th>\n",
       "      <th>Venue Category</th>\n",
       "    </tr>\n",
       "  </thead>\n",
       "  <tbody>\n",
       "    <tr>\n",
       "      <th>0</th>\n",
       "      <td>M5A</td>\n",
       "      <td>43.65426</td>\n",
       "      <td>-79.360636</td>\n",
       "      <td>The Hot House Restaurant &amp; Bar</td>\n",
       "      <td>43.648824</td>\n",
       "      <td>-79.373702</td>\n",
       "      <td>American Restaurant</td>\n",
       "    </tr>\n",
       "    <tr>\n",
       "      <th>1</th>\n",
       "      <td>M5A</td>\n",
       "      <td>43.65426</td>\n",
       "      <td>-79.360636</td>\n",
       "      <td>est Restaurant</td>\n",
       "      <td>43.658911</td>\n",
       "      <td>-79.349035</td>\n",
       "      <td>American Restaurant</td>\n",
       "    </tr>\n",
       "    <tr>\n",
       "      <th>2</th>\n",
       "      <td>M5A</td>\n",
       "      <td>43.65426</td>\n",
       "      <td>-79.360636</td>\n",
       "      <td>Site Of Great Canary Restaurant</td>\n",
       "      <td>43.653323</td>\n",
       "      <td>-79.357883</td>\n",
       "      <td>Breakfast Spot</td>\n",
       "    </tr>\n",
       "    <tr>\n",
       "      <th>3</th>\n",
       "      <td>M5A</td>\n",
       "      <td>43.65426</td>\n",
       "      <td>-79.360636</td>\n",
       "      <td>Morning Glory Cafe</td>\n",
       "      <td>43.653947</td>\n",
       "      <td>-79.361149</td>\n",
       "      <td>Breakfast Spot</td>\n",
       "    </tr>\n",
       "    <tr>\n",
       "      <th>4</th>\n",
       "      <td>M5A</td>\n",
       "      <td>43.65426</td>\n",
       "      <td>-79.360636</td>\n",
       "      <td>Ryan Restaurant</td>\n",
       "      <td>43.655724</td>\n",
       "      <td>-79.364129</td>\n",
       "      <td>Ethiopian Restaurant</td>\n",
       "    </tr>\n",
       "  </tbody>\n",
       "</table>\n",
       "</div>"
      ],
      "text/plain": [
       "  Postal Code  Neighborhood Latitude  Neighborhood Longitude  \\\n",
       "0         M5A               43.65426              -79.360636   \n",
       "1         M5A               43.65426              -79.360636   \n",
       "2         M5A               43.65426              -79.360636   \n",
       "3         M5A               43.65426              -79.360636   \n",
       "4         M5A               43.65426              -79.360636   \n",
       "\n",
       "                             Venue  Venue Latitude  Venue Longitude  \\\n",
       "0   The Hot House Restaurant & Bar       43.648824       -79.373702   \n",
       "1                   est Restaurant       43.658911       -79.349035   \n",
       "2  Site Of Great Canary Restaurant       43.653323       -79.357883   \n",
       "3               Morning Glory Cafe       43.653947       -79.361149   \n",
       "4                  Ryan Restaurant       43.655724       -79.364129   \n",
       "\n",
       "         Venue Category  \n",
       "0   American Restaurant  \n",
       "1   American Restaurant  \n",
       "2        Breakfast Spot  \n",
       "3        Breakfast Spot  \n",
       "4  Ethiopian Restaurant  "
      ]
     },
     "execution_count": 11,
     "metadata": {},
     "output_type": "execute_result"
    }
   ],
   "source": [
    "venues_list=[]\n",
    "for name, lat, lng in zip(toronto_data['Postal Code'], toronto_data['Latitude'], toronto_data['Longitude']):\n",
    "        \n",
    "    # create the API request URL\n",
    "    url = 'https://api.foursquare.com/v2/venues/search?&client_id={}&client_secret={}&v={}&ll={},{}&radius={}&limit={}&query={}'.format(\n",
    "            CLIENT_ID, \n",
    "            CLIENT_SECRET, \n",
    "            VERSION, \n",
    "            lat, \n",
    "            lng, \n",
    "            1000, \n",
    "            LIMIT,\n",
    "            QUERY)\n",
    "    results = requests.get(url).json()[\"response\"]['venues']\n",
    "    \n",
    "    for v in results:\n",
    "        # fetch category if one is found\n",
    "        if len(v['categories']) > 0:\n",
    "            if v['categories'][0]['name'] != \"Restaurant\":  #this category doesn't tell us anything about type of restaurants\n",
    "                venues_list.append([(\n",
    "                    name, \n",
    "                    lat, \n",
    "                    lng, \n",
    "                    v['name'], \n",
    "                    v['location']['lat'], \n",
    "                    v['location']['lng'],  \n",
    "                    v['categories'][0]['name'])])\n",
    "          \n",
    "\n",
    "nearby_venues = pd.DataFrame([item for venue_list in venues_list for item in venue_list])\n",
    "nearby_venues.columns = ['Postal Code', \n",
    "                  'Neighborhood Latitude', \n",
    "                  'Neighborhood Longitude', \n",
    "                  'Venue', \n",
    "                  'Venue Latitude', \n",
    "                  'Venue Longitude', \n",
    "                  'Venue Category']\n",
    "nearby_venues.head()"
   ]
  },
  {
   "cell_type": "code",
   "execution_count": 12,
   "metadata": {},
   "outputs": [
    {
     "name": "stdout",
     "output_type": "stream",
     "text": [
      "There are 74 unique restaurant categories.\n"
     ]
    }
   ],
   "source": [
    "print('There are {} unique restaurant categories.'.format(len(nearby_venues['Venue Category'].unique())))"
   ]
  },
  {
   "cell_type": "markdown",
   "metadata": {},
   "source": [
    "That's a lot of restaurant categories, so I'll just focus on the 10 most common to determine neighborhood clusters"
   ]
  },
  {
   "cell_type": "code",
   "execution_count": 13,
   "metadata": {},
   "outputs": [
    {
     "name": "stdout",
     "output_type": "stream",
     "text": [
      "Using 10 unique restaurant categories\n"
     ]
    }
   ],
   "source": [
    "# find out which resturant cateories are the most common\n",
    "category_freq = nearby_venues.groupby(\"Venue Category\").count().sort_values(by=\"Postal Code\", ascending=False)\n",
    "category_freq = category_freq[0:10]\n",
    "\n",
    "# filter venue search results by restaurants within the most common categories:\n",
    "mycategories = category_freq.index.tolist()\n",
    "pattern = '|'.join(mycategories)\n",
    "\n",
    "nearby_venues_common = nearby_venues[nearby_venues[\"Venue Category\"].str.match(pattern)]\n",
    "print('Using {} unique restaurant categories'.format(len(nearby_venues_common['Venue Category'].unique())))"
   ]
  },
  {
   "cell_type": "markdown",
   "metadata": {},
   "source": [
    "Get the frequency of categories per neighborhood "
   ]
  },
  {
   "cell_type": "code",
   "execution_count": 14,
   "metadata": {},
   "outputs": [
    {
     "data": {
      "text/html": [
       "<div>\n",
       "<style scoped>\n",
       "    .dataframe tbody tr th:only-of-type {\n",
       "        vertical-align: middle;\n",
       "    }\n",
       "\n",
       "    .dataframe tbody tr th {\n",
       "        vertical-align: top;\n",
       "    }\n",
       "\n",
       "    .dataframe thead th {\n",
       "        text-align: right;\n",
       "    }\n",
       "</style>\n",
       "<table border=\"1\" class=\"dataframe\">\n",
       "  <thead>\n",
       "    <tr style=\"text-align: right;\">\n",
       "      <th></th>\n",
       "      <th>Postal Code</th>\n",
       "      <th>American Restaurant</th>\n",
       "      <th>Asian Restaurant</th>\n",
       "      <th>Chinese Restaurant</th>\n",
       "      <th>Diner</th>\n",
       "      <th>Indian Restaurant</th>\n",
       "      <th>Italian Restaurant</th>\n",
       "      <th>Japanese Restaurant</th>\n",
       "      <th>Korean Restaurant</th>\n",
       "      <th>New American Restaurant</th>\n",
       "      <th>Sushi Restaurant</th>\n",
       "    </tr>\n",
       "  </thead>\n",
       "  <tbody>\n",
       "    <tr>\n",
       "      <th>0</th>\n",
       "      <td>M4E</td>\n",
       "      <td>0.000000</td>\n",
       "      <td>0.166667</td>\n",
       "      <td>0.333333</td>\n",
       "      <td>0.000000</td>\n",
       "      <td>0.0</td>\n",
       "      <td>0.166667</td>\n",
       "      <td>0.333333</td>\n",
       "      <td>0.0</td>\n",
       "      <td>0.0</td>\n",
       "      <td>0.0</td>\n",
       "    </tr>\n",
       "    <tr>\n",
       "      <th>1</th>\n",
       "      <td>M4K</td>\n",
       "      <td>0.000000</td>\n",
       "      <td>0.200000</td>\n",
       "      <td>0.200000</td>\n",
       "      <td>0.200000</td>\n",
       "      <td>0.0</td>\n",
       "      <td>0.200000</td>\n",
       "      <td>0.000000</td>\n",
       "      <td>0.0</td>\n",
       "      <td>0.0</td>\n",
       "      <td>0.2</td>\n",
       "    </tr>\n",
       "    <tr>\n",
       "      <th>2</th>\n",
       "      <td>M4L</td>\n",
       "      <td>0.000000</td>\n",
       "      <td>0.000000</td>\n",
       "      <td>0.000000</td>\n",
       "      <td>0.200000</td>\n",
       "      <td>0.6</td>\n",
       "      <td>0.200000</td>\n",
       "      <td>0.000000</td>\n",
       "      <td>0.0</td>\n",
       "      <td>0.0</td>\n",
       "      <td>0.0</td>\n",
       "    </tr>\n",
       "    <tr>\n",
       "      <th>3</th>\n",
       "      <td>M4M</td>\n",
       "      <td>0.333333</td>\n",
       "      <td>0.000000</td>\n",
       "      <td>0.333333</td>\n",
       "      <td>0.000000</td>\n",
       "      <td>0.0</td>\n",
       "      <td>0.333333</td>\n",
       "      <td>0.000000</td>\n",
       "      <td>0.0</td>\n",
       "      <td>0.0</td>\n",
       "      <td>0.0</td>\n",
       "    </tr>\n",
       "    <tr>\n",
       "      <th>4</th>\n",
       "      <td>M4P</td>\n",
       "      <td>0.000000</td>\n",
       "      <td>0.166667</td>\n",
       "      <td>0.166667</td>\n",
       "      <td>0.333333</td>\n",
       "      <td>0.0</td>\n",
       "      <td>0.333333</td>\n",
       "      <td>0.000000</td>\n",
       "      <td>0.0</td>\n",
       "      <td>0.0</td>\n",
       "      <td>0.0</td>\n",
       "    </tr>\n",
       "  </tbody>\n",
       "</table>\n",
       "</div>"
      ],
      "text/plain": [
       "  Postal Code  American Restaurant  Asian Restaurant  Chinese Restaurant  \\\n",
       "0         M4E             0.000000          0.166667            0.333333   \n",
       "1         M4K             0.000000          0.200000            0.200000   \n",
       "2         M4L             0.000000          0.000000            0.000000   \n",
       "3         M4M             0.333333          0.000000            0.333333   \n",
       "4         M4P             0.000000          0.166667            0.166667   \n",
       "\n",
       "      Diner  Indian Restaurant  Italian Restaurant  Japanese Restaurant  \\\n",
       "0  0.000000                0.0            0.166667             0.333333   \n",
       "1  0.200000                0.0            0.200000             0.000000   \n",
       "2  0.200000                0.6            0.200000             0.000000   \n",
       "3  0.000000                0.0            0.333333             0.000000   \n",
       "4  0.333333                0.0            0.333333             0.000000   \n",
       "\n",
       "   Korean Restaurant  New American Restaurant  Sushi Restaurant  \n",
       "0                0.0                      0.0               0.0  \n",
       "1                0.0                      0.0               0.2  \n",
       "2                0.0                      0.0               0.0  \n",
       "3                0.0                      0.0               0.0  \n",
       "4                0.0                      0.0               0.0  "
      ]
     },
     "execution_count": 14,
     "metadata": {},
     "output_type": "execute_result"
    }
   ],
   "source": [
    "# one hot encoding\n",
    "toronto_onehot = pd.get_dummies(nearby_venues_common[['Venue Category']], prefix=\"\", prefix_sep=\"\")\n",
    "\n",
    "# add neighborhood column back to dataframe\n",
    "toronto_onehot['Postal Code'] = nearby_venues_common['Postal Code'] \n",
    "\n",
    "# move neighborhood column to the first column\n",
    "fixed_columns = [toronto_onehot.columns[-1]] + list(toronto_onehot.columns[:-1])\n",
    "toronto_onehot = toronto_onehot[fixed_columns]\n",
    "\n",
    "# get frequency of restaurant types by neighborhood\n",
    "toronto_grouped = toronto_onehot.groupby('Postal Code').mean().reset_index()\n",
    "toronto_grouped.head()"
   ]
  },
  {
   "cell_type": "markdown",
   "metadata": {},
   "source": [
    "Run K-means clustering on neighborhoods by restaurant category"
   ]
  },
  {
   "cell_type": "code",
   "execution_count": 15,
   "metadata": {},
   "outputs": [],
   "source": [
    "# run k-means clustering\n",
    "kclusters=4\n",
    "kmeans = KMeans(n_clusters=kclusters, random_state=0).fit(toronto_grouped.drop('Postal Code', 1))"
   ]
  },
  {
   "cell_type": "markdown",
   "metadata": {},
   "source": [
    "Add cluster labels to neighborhoods"
   ]
  },
  {
   "cell_type": "code",
   "execution_count": 16,
   "metadata": {},
   "outputs": [
    {
     "data": {
      "text/html": [
       "<div>\n",
       "<style scoped>\n",
       "    .dataframe tbody tr th:only-of-type {\n",
       "        vertical-align: middle;\n",
       "    }\n",
       "\n",
       "    .dataframe tbody tr th {\n",
       "        vertical-align: top;\n",
       "    }\n",
       "\n",
       "    .dataframe thead th {\n",
       "        text-align: right;\n",
       "    }\n",
       "</style>\n",
       "<table border=\"1\" class=\"dataframe\">\n",
       "  <thead>\n",
       "    <tr style=\"text-align: right;\">\n",
       "      <th></th>\n",
       "      <th>Postal Code</th>\n",
       "      <th>Borough</th>\n",
       "      <th>Neighbourhood</th>\n",
       "      <th>Latitude</th>\n",
       "      <th>Longitude</th>\n",
       "      <th>Cluster Labels</th>\n",
       "      <th>American Restaurant</th>\n",
       "      <th>Asian Restaurant</th>\n",
       "      <th>Chinese Restaurant</th>\n",
       "      <th>Diner</th>\n",
       "      <th>Indian Restaurant</th>\n",
       "      <th>Italian Restaurant</th>\n",
       "      <th>Japanese Restaurant</th>\n",
       "      <th>Korean Restaurant</th>\n",
       "      <th>New American Restaurant</th>\n",
       "      <th>Sushi Restaurant</th>\n",
       "    </tr>\n",
       "  </thead>\n",
       "  <tbody>\n",
       "    <tr>\n",
       "      <th>0</th>\n",
       "      <td>M5A</td>\n",
       "      <td>Downtown Toronto</td>\n",
       "      <td>Regent Park, Harbourfront</td>\n",
       "      <td>43.654260</td>\n",
       "      <td>-79.360636</td>\n",
       "      <td>3</td>\n",
       "      <td>0.333333</td>\n",
       "      <td>0.166667</td>\n",
       "      <td>0.000000</td>\n",
       "      <td>0.333333</td>\n",
       "      <td>0.000000</td>\n",
       "      <td>0.166667</td>\n",
       "      <td>0.000000</td>\n",
       "      <td>0.00000</td>\n",
       "      <td>0.000000</td>\n",
       "      <td>0.000000</td>\n",
       "    </tr>\n",
       "    <tr>\n",
       "      <th>1</th>\n",
       "      <td>M7A</td>\n",
       "      <td>Downtown Toronto</td>\n",
       "      <td>Queen's Park, Ontario Provincial Government</td>\n",
       "      <td>43.662301</td>\n",
       "      <td>-79.389494</td>\n",
       "      <td>0</td>\n",
       "      <td>0.062500</td>\n",
       "      <td>0.062500</td>\n",
       "      <td>0.375000</td>\n",
       "      <td>0.031250</td>\n",
       "      <td>0.062500</td>\n",
       "      <td>0.093750</td>\n",
       "      <td>0.093750</td>\n",
       "      <td>0.03125</td>\n",
       "      <td>0.093750</td>\n",
       "      <td>0.093750</td>\n",
       "    </tr>\n",
       "    <tr>\n",
       "      <th>2</th>\n",
       "      <td>M5B</td>\n",
       "      <td>Downtown Toronto</td>\n",
       "      <td>Garden District, Ryerson</td>\n",
       "      <td>43.657162</td>\n",
       "      <td>-79.378937</td>\n",
       "      <td>0</td>\n",
       "      <td>0.120000</td>\n",
       "      <td>0.160000</td>\n",
       "      <td>0.200000</td>\n",
       "      <td>0.040000</td>\n",
       "      <td>0.160000</td>\n",
       "      <td>0.080000</td>\n",
       "      <td>0.040000</td>\n",
       "      <td>0.00000</td>\n",
       "      <td>0.120000</td>\n",
       "      <td>0.080000</td>\n",
       "    </tr>\n",
       "    <tr>\n",
       "      <th>3</th>\n",
       "      <td>M5C</td>\n",
       "      <td>Downtown Toronto</td>\n",
       "      <td>St. James Town</td>\n",
       "      <td>43.651494</td>\n",
       "      <td>-79.375418</td>\n",
       "      <td>0</td>\n",
       "      <td>0.136364</td>\n",
       "      <td>0.181818</td>\n",
       "      <td>0.181818</td>\n",
       "      <td>0.045455</td>\n",
       "      <td>0.136364</td>\n",
       "      <td>0.045455</td>\n",
       "      <td>0.090909</td>\n",
       "      <td>0.00000</td>\n",
       "      <td>0.090909</td>\n",
       "      <td>0.090909</td>\n",
       "    </tr>\n",
       "    <tr>\n",
       "      <th>4</th>\n",
       "      <td>M4E</td>\n",
       "      <td>East Toronto</td>\n",
       "      <td>The Beaches</td>\n",
       "      <td>43.676357</td>\n",
       "      <td>-79.293031</td>\n",
       "      <td>0</td>\n",
       "      <td>0.000000</td>\n",
       "      <td>0.166667</td>\n",
       "      <td>0.333333</td>\n",
       "      <td>0.000000</td>\n",
       "      <td>0.000000</td>\n",
       "      <td>0.166667</td>\n",
       "      <td>0.333333</td>\n",
       "      <td>0.00000</td>\n",
       "      <td>0.000000</td>\n",
       "      <td>0.000000</td>\n",
       "    </tr>\n",
       "  </tbody>\n",
       "</table>\n",
       "</div>"
      ],
      "text/plain": [
       "  Postal Code           Borough                                Neighbourhood  \\\n",
       "0         M5A  Downtown Toronto                    Regent Park, Harbourfront   \n",
       "1         M7A  Downtown Toronto  Queen's Park, Ontario Provincial Government   \n",
       "2         M5B  Downtown Toronto                     Garden District, Ryerson   \n",
       "3         M5C  Downtown Toronto                               St. James Town   \n",
       "4         M4E      East Toronto                                  The Beaches   \n",
       "\n",
       "    Latitude  Longitude  Cluster Labels  American Restaurant  \\\n",
       "0  43.654260 -79.360636               3             0.333333   \n",
       "1  43.662301 -79.389494               0             0.062500   \n",
       "2  43.657162 -79.378937               0             0.120000   \n",
       "3  43.651494 -79.375418               0             0.136364   \n",
       "4  43.676357 -79.293031               0             0.000000   \n",
       "\n",
       "   Asian Restaurant  Chinese Restaurant     Diner  Indian Restaurant  \\\n",
       "0          0.166667            0.000000  0.333333           0.000000   \n",
       "1          0.062500            0.375000  0.031250           0.062500   \n",
       "2          0.160000            0.200000  0.040000           0.160000   \n",
       "3          0.181818            0.181818  0.045455           0.136364   \n",
       "4          0.166667            0.333333  0.000000           0.000000   \n",
       "\n",
       "   Italian Restaurant  Japanese Restaurant  Korean Restaurant  \\\n",
       "0            0.166667             0.000000            0.00000   \n",
       "1            0.093750             0.093750            0.03125   \n",
       "2            0.080000             0.040000            0.00000   \n",
       "3            0.045455             0.090909            0.00000   \n",
       "4            0.166667             0.333333            0.00000   \n",
       "\n",
       "   New American Restaurant  Sushi Restaurant  \n",
       "0                 0.000000          0.000000  \n",
       "1                 0.093750          0.093750  \n",
       "2                 0.120000          0.080000  \n",
       "3                 0.090909          0.090909  \n",
       "4                 0.000000          0.000000  "
      ]
     },
     "execution_count": 16,
     "metadata": {},
     "output_type": "execute_result"
    }
   ],
   "source": [
    "# add clustering labels\n",
    "toronto_grouped.insert(0, 'Cluster Labels', kmeans.labels_)\n",
    "\n",
    "#merge with lat/long df\n",
    "toronto_clusters = toronto_data.merge(toronto_grouped, on=\"Postal Code\")\n",
    "toronto_clusters.head()"
   ]
  },
  {
   "cell_type": "markdown",
   "metadata": {},
   "source": [
    "Replot neighborhoods, color-coding by cluster"
   ]
  },
  {
   "cell_type": "code",
   "execution_count": 17,
   "metadata": {},
   "outputs": [
    {
     "data": {
      "text/html": [
       "<div style=\"width:100%;\"><div style=\"position:relative;width:100%;height:0;padding-bottom:60%;\"><span style=\"color:#565656\">Make this Notebook Trusted to load map: File -> Trust Notebook</span><iframe src=\"about:blank\" style=\"position:absolute;width:100%;height:100%;left:0;top:0;border:none !important;\" data-html=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 onload=\"this.contentDocument.open();this.contentDocument.write(atob(this.getAttribute('data-html')));this.contentDocument.close();\" allowfullscreen webkitallowfullscreen mozallowfullscreen></iframe></div></div>"
      ],
      "text/plain": [
       "<folium.folium.Map at 0x1207faf28>"
      ]
     },
     "execution_count": 17,
     "metadata": {},
     "output_type": "execute_result"
    }
   ],
   "source": [
    "# create map\n",
    "map_clusters = folium.Map(location=[t_lat, t_lng], zoom_start=12)\n",
    "\n",
    "# set color scheme for the clusters\n",
    "x = np.arange(kclusters)\n",
    "ys = [i + x + (i*x)**2 for i in range(kclusters)]\n",
    "colors_array = cm.cool(np.linspace(0, 1, len(ys)))\n",
    "rainbow = [colors.rgb2hex(i) for i in colors_array]\n",
    "\n",
    "# add markers to the map\n",
    "markers_colors = []\n",
    "for lat, lon, poi, cluster in zip(toronto_clusters['Latitude'], toronto_clusters['Longitude'], toronto_clusters['Postal Code'], toronto_clusters['Cluster Labels']):\n",
    "    label = folium.Popup(str(poi) + ' Cluster ' + str(cluster), parse_html=True)\n",
    "    folium.CircleMarker(\n",
    "        [lat, lon],\n",
    "        radius=8,\n",
    "        popup=label,\n",
    "        color=rainbow[cluster-1],\n",
    "        fill=True,\n",
    "        fill_color=rainbow[cluster-1],\n",
    "        fill_opacity=0.7).add_to(map_clusters)\n",
    "       \n",
    "map_clusters"
   ]
  },
  {
   "cell_type": "markdown",
   "metadata": {},
   "source": [
    "Finally, let's check what kind of restaurants are most common within each cluster:"
   ]
  },
  {
   "cell_type": "code",
   "execution_count": 18,
   "metadata": {},
   "outputs": [
    {
     "data": {
      "text/html": [
       "<div>\n",
       "<style scoped>\n",
       "    .dataframe tbody tr th:only-of-type {\n",
       "        vertical-align: middle;\n",
       "    }\n",
       "\n",
       "    .dataframe tbody tr th {\n",
       "        vertical-align: top;\n",
       "    }\n",
       "\n",
       "    .dataframe thead th {\n",
       "        text-align: right;\n",
       "    }\n",
       "</style>\n",
       "<table border=\"1\" class=\"dataframe\">\n",
       "  <thead>\n",
       "    <tr style=\"text-align: right;\">\n",
       "      <th>Cluster Labels</th>\n",
       "      <th>0</th>\n",
       "      <th>1</th>\n",
       "      <th>2</th>\n",
       "      <th>3</th>\n",
       "    </tr>\n",
       "  </thead>\n",
       "  <tbody>\n",
       "    <tr>\n",
       "      <th>American Restaurant</th>\n",
       "      <td>0.071701</td>\n",
       "      <td>0.000000</td>\n",
       "      <td>0.031250</td>\n",
       "      <td>0.277778</td>\n",
       "    </tr>\n",
       "    <tr>\n",
       "      <th>Asian Restaurant</th>\n",
       "      <td>0.118688</td>\n",
       "      <td>0.063690</td>\n",
       "      <td>0.000000</td>\n",
       "      <td>0.055556</td>\n",
       "    </tr>\n",
       "    <tr>\n",
       "      <th>Chinese Restaurant</th>\n",
       "      <td>0.269444</td>\n",
       "      <td>0.056548</td>\n",
       "      <td>0.093750</td>\n",
       "      <td>0.000000</td>\n",
       "    </tr>\n",
       "    <tr>\n",
       "      <th>Diner</th>\n",
       "      <td>0.056289</td>\n",
       "      <td>0.263988</td>\n",
       "      <td>0.000000</td>\n",
       "      <td>0.611111</td>\n",
       "    </tr>\n",
       "    <tr>\n",
       "      <th>Indian Restaurant</th>\n",
       "      <td>0.107938</td>\n",
       "      <td>0.092857</td>\n",
       "      <td>0.060662</td>\n",
       "      <td>0.000000</td>\n",
       "    </tr>\n",
       "    <tr>\n",
       "      <th>Italian Restaurant</th>\n",
       "      <td>0.081866</td>\n",
       "      <td>0.424702</td>\n",
       "      <td>0.091912</td>\n",
       "      <td>0.055556</td>\n",
       "    </tr>\n",
       "    <tr>\n",
       "      <th>Japanese Restaurant</th>\n",
       "      <td>0.143105</td>\n",
       "      <td>0.066964</td>\n",
       "      <td>0.060662</td>\n",
       "      <td>0.000000</td>\n",
       "    </tr>\n",
       "    <tr>\n",
       "      <th>Korean Restaurant</th>\n",
       "      <td>0.017316</td>\n",
       "      <td>0.000000</td>\n",
       "      <td>0.630515</td>\n",
       "      <td>0.000000</td>\n",
       "    </tr>\n",
       "    <tr>\n",
       "      <th>New American Restaurant</th>\n",
       "      <td>0.060274</td>\n",
       "      <td>0.000000</td>\n",
       "      <td>0.031250</td>\n",
       "      <td>0.000000</td>\n",
       "    </tr>\n",
       "    <tr>\n",
       "      <th>Sushi Restaurant</th>\n",
       "      <td>0.073379</td>\n",
       "      <td>0.031250</td>\n",
       "      <td>0.000000</td>\n",
       "      <td>0.000000</td>\n",
       "    </tr>\n",
       "  </tbody>\n",
       "</table>\n",
       "</div>"
      ],
      "text/plain": [
       "Cluster Labels                  0         1         2         3\n",
       "American Restaurant      0.071701  0.000000  0.031250  0.277778\n",
       "Asian Restaurant         0.118688  0.063690  0.000000  0.055556\n",
       "Chinese Restaurant       0.269444  0.056548  0.093750  0.000000\n",
       "Diner                    0.056289  0.263988  0.000000  0.611111\n",
       "Indian Restaurant        0.107938  0.092857  0.060662  0.000000\n",
       "Italian Restaurant       0.081866  0.424702  0.091912  0.055556\n",
       "Japanese Restaurant      0.143105  0.066964  0.060662  0.000000\n",
       "Korean Restaurant        0.017316  0.000000  0.630515  0.000000\n",
       "New American Restaurant  0.060274  0.000000  0.031250  0.000000\n",
       "Sushi Restaurant         0.073379  0.031250  0.000000  0.000000"
      ]
     },
     "execution_count": 18,
     "metadata": {},
     "output_type": "execute_result"
    }
   ],
   "source": [
    "# mean category frequency per cluster\n",
    "cluster_means = toronto_clusters.groupby('Cluster Labels').mean().drop(['Latitude','Longitude'],1).transpose()\n",
    "cluster_means"
   ]
  },
  {
   "cell_type": "code",
   "execution_count": 19,
   "metadata": {},
   "outputs": [
    {
     "data": {
      "image/png": "[encoded data removed]",
      "text/plain": [
       "<Figure size 864x432 with 1 Axes>"
      ]
     },
     "metadata": {
      "needs_background": "light"
     },
     "output_type": "display_data"
    }
   ],
   "source": [
    "# plot bar graph to compare\n",
    "cluster_means.plot(kind=\"bar\", figsize=(12,6), \n",
    "                   width=0.8, color=rainbow)\n",
    "plt.xticks(fontsize=16)\n",
    "plt.ylabel('Frequency', fontsize=20)\n",
    "plt.show()"
   ]
  },
  {
   "cell_type": "markdown",
   "metadata": {},
   "source": [
    "So, it looks like...\n",
    "* Cluster 0 has more Chinese and Japanese restaurants\n",
    "* Cluster 1 has more Italian restaurants and Diners\n",
    "* Cluster 2 has more Korean restaurants\n",
    "* Cluster 3 has more American restaurants and Diners"
   ]
  },
  {
   "cell_type": "code",
   "execution_count": null,
   "metadata": {},
   "outputs": [],
   "source": []
  }
 ],
 "metadata": {
  "kernelspec": {
   "display_name": "Python 3",
   "language": "python",
   "name": "python3"
  },
  "language_info": {
   "codemirror_mode": {
    "name": "ipython",
    "version": 3
   },
   "file_extension": ".py",
   "mimetype": "text/x-python",
   "name": "python",
   "nbconvert_exporter": "python",
   "pygments_lexer": "ipython3",
   "version": "3.6.12"
  }
 },
 "nbformat": 4,
 "nbformat_minor": 4
}
